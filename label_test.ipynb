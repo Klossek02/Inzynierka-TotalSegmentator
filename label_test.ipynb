{
 "cells": [
  {
   "cell_type": "markdown",
   "source": [
    "Import:"
   ],
   "metadata": {
    "collapsed": false
   },
   "id": "2181e73a3bed29d5"
  },
  {
   "cell_type": "code",
   "outputs": [],
   "source": [
    "import glob\n",
    "import os\n",
    "from monai.transforms import (\n",
    "    Compose, EnsureChannelFirstd, EnsureTyped, LoadImaged,\n",
    "    RandSpatialCropd, RandRotate90d, ResizeWithPadOrCropd)\n",
    "import torch\n",
    "import nibabel as nib\n",
    "import numpy as np\n",
    "import demo\n",
    "from matplotlib import cm\n",
    "from vedo import load, Plotter"
   ],
   "metadata": {
    "collapsed": false,
    "ExecuteTime": {
     "end_time": "2024-12-11T16:09:01.031619200Z",
     "start_time": "2024-12-11T16:09:00.984169600Z"
    }
   },
   "id": "17cb2e0c3fc25f47",
   "execution_count": 108
  },
  {
   "cell_type": "code",
   "outputs": [],
   "source": [
    "total = {\n",
    "        1: \"spleen\",\n",
    "        2: \"kidney_right\",\n",
    "        3: \"kidney_left\",\n",
    "        4: \"gallbladder\",\n",
    "        5: \"liver\",\n",
    "        6: \"stomach\",\n",
    "        7: \"pancreas\",\n",
    "        8: \"adrenal_gland_right\",\n",
    "        9: \"adrenal_gland_left\",\n",
    "        10: \"lung_upper_lobe_left\",\n",
    "        11: \"lung_lower_lobe_left\",\n",
    "        12: \"lung_upper_lobe_right\",\n",
    "        13: \"lung_middle_lobe_right\",\n",
    "        14: \"lung_lower_lobe_right\",\n",
    "        15: \"esophagus\",\n",
    "        16: \"trachea\",\n",
    "        17: \"thyroid_gland\",\n",
    "        18: \"small_bowel\",\n",
    "        19: \"duodenum\",\n",
    "        20: \"colon\",\n",
    "        21: \"urinary_bladder\",\n",
    "        22: \"prostate\",\n",
    "        23: \"kidney_cyst_left\",\n",
    "        24: \"kidney_cyst_right\",\n",
    "        25: \"sacrum\",\n",
    "        26: \"vertebrae_S1\",\n",
    "        27: \"vertebrae_L5\",\n",
    "        28: \"vertebrae_L4\",\n",
    "        29: \"vertebrae_L3\",\n",
    "        30: \"vertebrae_L2\",\n",
    "        31: \"vertebrae_L1\",\n",
    "        32: \"vertebrae_T12\",\n",
    "        33: \"vertebrae_T11\",\n",
    "        34: \"vertebrae_T10\",\n",
    "        35: \"vertebrae_T9\",\n",
    "        36: \"vertebrae_T8\",\n",
    "        37: \"vertebrae_T7\",\n",
    "        38: \"vertebrae_T6\",\n",
    "        39: \"vertebrae_T5\",\n",
    "        40: \"vertebrae_T4\",\n",
    "        41: \"vertebrae_T3\",\n",
    "        42: \"vertebrae_T2\",\n",
    "        43: \"vertebrae_T1\",\n",
    "        44: \"vertebrae_C7\",\n",
    "        45: \"vertebrae_C6\",\n",
    "        46: \"vertebrae_C5\",\n",
    "        47: \"vertebrae_C4\",\n",
    "        48: \"vertebrae_C3\",\n",
    "        49: \"vertebrae_C2\",\n",
    "        50: \"vertebrae_C1\",\n",
    "        51: \"heart\",\n",
    "        52: \"aorta\",\n",
    "        53: \"pulmonary_vein\",\n",
    "        54: \"brachiocephalic_trunk\",\n",
    "        55: \"subclavian_artery_right\",\n",
    "        56: \"subclavian_artery_left\",\n",
    "        57: \"common_carotid_artery_right\",\n",
    "        58: \"common_carotid_artery_left\",\n",
    "        59: \"brachiocephalic_vein_left\",\n",
    "        60: \"brachiocephalic_vein_right\",\n",
    "        61: \"atrial_appendage_left\",\n",
    "        62: \"superior_vena_cava\",\n",
    "        63: \"inferior_vena_cava\",\n",
    "        64: \"portal_vein_and_splenic_vein\",\n",
    "        65: \"iliac_artery_left\",\n",
    "        66: \"iliac_artery_right\",\n",
    "        67: \"iliac_vena_left\",\n",
    "        68: \"iliac_vena_right\",\n",
    "        69: \"humerus_left\",\n",
    "        70: \"humerus_right\",\n",
    "        71: \"scapula_left\",\n",
    "        72: \"scapula_right\",\n",
    "        73: \"clavicula_left\",\n",
    "        74: \"clavicula_right\",\n",
    "        75: \"femur_left\",\n",
    "        76: \"femur_right\",\n",
    "        77: \"hip_left\",\n",
    "        78: \"hip_right\",\n",
    "        79: \"spinal_cord\",\n",
    "        80: \"gluteus_maximus_left\",\n",
    "        81: \"gluteus_maximus_right\",\n",
    "        82: \"gluteus_medius_left\",\n",
    "        83: \"gluteus_medius_right\",\n",
    "        84: \"gluteus_minimus_left\",\n",
    "        85: \"gluteus_minimus_right\",\n",
    "        86: \"autochthon_left\",\n",
    "        87: \"autochthon_right\",\n",
    "        88: \"iliopsoas_left\",\n",
    "        89: \"iliopsoas_right\",\n",
    "        90: \"brain\",\n",
    "        91: \"skull\",\n",
    "        92: \"rib_left_1\",\n",
    "        93: \"rib_left_2\",\n",
    "        94: \"rib_left_3\",\n",
    "        95: \"rib_left_4\",\n",
    "        96: \"rib_left_5\",\n",
    "        97: \"rib_left_6\",\n",
    "        98: \"rib_left_7\",\n",
    "        99: \"rib_left_8\",\n",
    "        100: \"rib_left_9\",\n",
    "        101: \"rib_left_10\",\n",
    "        102: \"rib_left_11\",\n",
    "        103: \"rib_left_12\",\n",
    "        104: \"rib_right_1\",\n",
    "        105: \"rib_right_2\",\n",
    "        106: \"rib_right_3\",\n",
    "        107: \"rib_right_4\",\n",
    "        108: \"rib_right_5\",\n",
    "        109: \"rib_right_6\",\n",
    "        110: \"rib_right_7\",\n",
    "        111: \"rib_right_8\",\n",
    "        112: \"rib_right_9\",\n",
    "        113: \"rib_right_10\",\n",
    "        114: \"rib_right_11\",\n",
    "        115: \"rib_right_12\",\n",
    "        116: \"sternum\",\n",
    "        117: \"costal_cartilages\"\n",
    "    }"
   ],
   "metadata": {
    "collapsed": false,
    "ExecuteTime": {
     "end_time": "2024-12-11T16:09:01.050226Z",
     "start_time": "2024-12-11T16:09:01.040596600Z"
    }
   },
   "id": "c2bf81aded1a41e4",
   "execution_count": 109
  },
  {
   "cell_type": "code",
   "outputs": [],
   "source": [
    "class Convert_To_Binary: \n",
    "    def __call__(self, key): # key - dictionary with keys 'img' and 'label'\n",
    "        key['label'] = torch.where(key['label']> 0, 1, 0)\n",
    "        return key "
   ],
   "metadata": {
    "collapsed": false,
    "ExecuteTime": {
     "end_time": "2024-12-11T16:09:01.071955200Z",
     "start_time": "2024-12-11T16:09:01.053218500Z"
    }
   },
   "id": "82629bc500e245f9",
   "execution_count": 110
  },
  {
   "cell_type": "markdown",
   "source": [
    "Setup:"
   ],
   "metadata": {
    "collapsed": false
   },
   "id": "d54d3d392893f21b"
  },
  {
   "cell_type": "code",
   "execution_count": 111,
   "id": "initial_id",
   "metadata": {
    "collapsed": true,
    "ExecuteTime": {
     "end_time": "2024-12-11T16:09:01.088877300Z",
     "start_time": "2024-12-11T16:09:01.060410400Z"
    }
   },
   "outputs": [],
   "source": [
    "lbl_path = \"C:\\\\Users\\\\Dell\\\\Downloads\\\\Totalsegmentator_dataset_v201\\\\s0001\\\\segmentations\"\n",
    "\n",
    "transform = Compose([\n",
    "            LoadImaged(keys=['label']),\n",
    "            EnsureChannelFirstd(keys=['label']),\n",
    "            EnsureTyped(keys=['label']),\n",
    "            RandSpatialCropd(keys =['label'], roi_size = (128,128,128), random_size = False),\n",
    "            RandRotate90d(keys=['label'], prob = 0.5, max_k = 3),\n",
    "            ResizeWithPadOrCropd(keys=['label'], spatial_size = (128,128,128)),\n",
    "            Convert_To_Binary(),\n",
    "        ])"
   ]
  },
  {
   "cell_type": "code",
   "outputs": [],
   "source": [
    "def combine_masks(lbl_dir): \n",
    "    out_path = os.path.join(lbl_dir, 'combined_mask.nii.gz')  # https://docs.python.org/3/library/os.path.html\n",
    "\n",
    "    if not os.path.exists(out_path):  # check if the combined mask already exists to avoid recalculation\n",
    "        mask_files = glob.glob(os.path.join(lbl_dir, '*.nii.gz')) # get all nii.gz files (mask files)\n",
    "        combined_mask = None\n",
    "\n",
    "\n",
    "        for class_id, organ_name in total.items():\n",
    "            struct_path = os.path.join(lbl_dir, f\"{organ_name}.nii.gz\")\n",
    "            if os.path.exists(struct_path):    \n",
    "                mask = nib.load(struct_path).get_fdata() # https://nipy.org/nibabel/images_and_memory.html - load mask data            \n",
    "                if combined_mask is None:\n",
    "                    combined_mask = np.zeros_like(mask) # https://numpy.org/doc/stable/reference/generated/numpy.zeros_like.html - generating empty mask\n",
    "                combined_mask[mask > 0] = class_id # any non-zero value in the current mask will be assigned to the class label\n",
    "\n",
    "        if combined_mask is not None:\n",
    "            affine = nib.load(mask_files[0]).affine # loading affine matrix: https://medium.com/@junfeng142857/affine-transformation-why-3d-matrix-for-a-2d-transformation-8922b08bce75\n",
    "            combined_mask_img = nib.Nifti1Image(combined_mask.astype(np.uint8), affine)\n",
    "            nib.save(combined_mask_img, out_path)\n",
    "\n",
    "        else:\n",
    "            combined_mask = np.zeros((128,128,128), dtype=np.uint8) # https://numpy.org/doc/2.1/reference/generated/numpy.zeros.html    \n",
    "            nifti = nib.Nifti1Image(combined_mask, np.eye(4))\n",
    "            nib.save(nifti, out_path)\n",
    "            \n",
    "    return out_path"
   ],
   "metadata": {
    "collapsed": false,
    "ExecuteTime": {
     "end_time": "2024-12-11T16:09:01.109820700Z",
     "start_time": "2024-12-11T16:09:01.078936300Z"
    }
   },
   "id": "96e4bfa7f426819c",
   "execution_count": 112
  },
  {
   "cell_type": "markdown",
   "source": [
    "Reading labels by the dataloader. The code is copied from the dataloader."
   ],
   "metadata": {
    "collapsed": false
   },
   "id": "9e8ce25db44617a3"
  },
  {
   "cell_type": "code",
   "outputs": [
    {
     "name": "stdout",
     "output_type": "stream",
     "text": [
      "['C:\\\\Users\\\\Dell\\\\Downloads\\\\Totalsegmentator_dataset_v201\\\\s0001\\\\segmentations\\\\adrenal_gland_left.nii.gz', 'C:\\\\Users\\\\Dell\\\\Downloads\\\\Totalsegmentator_dataset_v201\\\\s0001\\\\segmentations\\\\adrenal_gland_right.nii.gz', 'C:\\\\Users\\\\Dell\\\\Downloads\\\\Totalsegmentator_dataset_v201\\\\s0001\\\\segmentations\\\\aorta.nii.gz', 'C:\\\\Users\\\\Dell\\\\Downloads\\\\Totalsegmentator_dataset_v201\\\\s0001\\\\segmentations\\\\atrial_appendage_left.nii.gz', 'C:\\\\Users\\\\Dell\\\\Downloads\\\\Totalsegmentator_dataset_v201\\\\s0001\\\\segmentations\\\\autochthon_left.nii.gz', 'C:\\\\Users\\\\Dell\\\\Downloads\\\\Totalsegmentator_dataset_v201\\\\s0001\\\\segmentations\\\\autochthon_right.nii.gz', 'C:\\\\Users\\\\Dell\\\\Downloads\\\\Totalsegmentator_dataset_v201\\\\s0001\\\\segmentations\\\\brachiocephalic_trunk.nii.gz', 'C:\\\\Users\\\\Dell\\\\Downloads\\\\Totalsegmentator_dataset_v201\\\\s0001\\\\segmentations\\\\brachiocephalic_vein_left.nii.gz', 'C:\\\\Users\\\\Dell\\\\Downloads\\\\Totalsegmentator_dataset_v201\\\\s0001\\\\segmentations\\\\brachiocephalic_vein_right.nii.gz', 'C:\\\\Users\\\\Dell\\\\Downloads\\\\Totalsegmentator_dataset_v201\\\\s0001\\\\segmentations\\\\brain.nii.gz', 'C:\\\\Users\\\\Dell\\\\Downloads\\\\Totalsegmentator_dataset_v201\\\\s0001\\\\segmentations\\\\clavicula_left.nii.gz', 'C:\\\\Users\\\\Dell\\\\Downloads\\\\Totalsegmentator_dataset_v201\\\\s0001\\\\segmentations\\\\clavicula_right.nii.gz', 'C:\\\\Users\\\\Dell\\\\Downloads\\\\Totalsegmentator_dataset_v201\\\\s0001\\\\segmentations\\\\colon.nii.gz', 'C:\\\\Users\\\\Dell\\\\Downloads\\\\Totalsegmentator_dataset_v201\\\\s0001\\\\segmentations\\\\combined_mask.nii.gz', 'C:\\\\Users\\\\Dell\\\\Downloads\\\\Totalsegmentator_dataset_v201\\\\s0001\\\\segmentations\\\\common_carotid_artery_left.nii.gz', 'C:\\\\Users\\\\Dell\\\\Downloads\\\\Totalsegmentator_dataset_v201\\\\s0001\\\\segmentations\\\\common_carotid_artery_right.nii.gz', 'C:\\\\Users\\\\Dell\\\\Downloads\\\\Totalsegmentator_dataset_v201\\\\s0001\\\\segmentations\\\\costal_cartilages.nii.gz', 'C:\\\\Users\\\\Dell\\\\Downloads\\\\Totalsegmentator_dataset_v201\\\\s0001\\\\segmentations\\\\duodenum.nii.gz', 'C:\\\\Users\\\\Dell\\\\Downloads\\\\Totalsegmentator_dataset_v201\\\\s0001\\\\segmentations\\\\esophagus.nii.gz', 'C:\\\\Users\\\\Dell\\\\Downloads\\\\Totalsegmentator_dataset_v201\\\\s0001\\\\segmentations\\\\femur_left.nii.gz', 'C:\\\\Users\\\\Dell\\\\Downloads\\\\Totalsegmentator_dataset_v201\\\\s0001\\\\segmentations\\\\femur_right.nii.gz', 'C:\\\\Users\\\\Dell\\\\Downloads\\\\Totalsegmentator_dataset_v201\\\\s0001\\\\segmentations\\\\gallbladder.nii.gz', 'C:\\\\Users\\\\Dell\\\\Downloads\\\\Totalsegmentator_dataset_v201\\\\s0001\\\\segmentations\\\\gluteus_maximus_left.nii.gz', 'C:\\\\Users\\\\Dell\\\\Downloads\\\\Totalsegmentator_dataset_v201\\\\s0001\\\\segmentations\\\\gluteus_maximus_right.nii.gz', 'C:\\\\Users\\\\Dell\\\\Downloads\\\\Totalsegmentator_dataset_v201\\\\s0001\\\\segmentations\\\\gluteus_medius_left.nii.gz', 'C:\\\\Users\\\\Dell\\\\Downloads\\\\Totalsegmentator_dataset_v201\\\\s0001\\\\segmentations\\\\gluteus_medius_right.nii.gz', 'C:\\\\Users\\\\Dell\\\\Downloads\\\\Totalsegmentator_dataset_v201\\\\s0001\\\\segmentations\\\\gluteus_minimus_left.nii.gz', 'C:\\\\Users\\\\Dell\\\\Downloads\\\\Totalsegmentator_dataset_v201\\\\s0001\\\\segmentations\\\\gluteus_minimus_right.nii.gz', 'C:\\\\Users\\\\Dell\\\\Downloads\\\\Totalsegmentator_dataset_v201\\\\s0001\\\\segmentations\\\\heart.nii.gz', 'C:\\\\Users\\\\Dell\\\\Downloads\\\\Totalsegmentator_dataset_v201\\\\s0001\\\\segmentations\\\\hip_left.nii.gz', 'C:\\\\Users\\\\Dell\\\\Downloads\\\\Totalsegmentator_dataset_v201\\\\s0001\\\\segmentations\\\\hip_right.nii.gz', 'C:\\\\Users\\\\Dell\\\\Downloads\\\\Totalsegmentator_dataset_v201\\\\s0001\\\\segmentations\\\\humerus_left.nii.gz', 'C:\\\\Users\\\\Dell\\\\Downloads\\\\Totalsegmentator_dataset_v201\\\\s0001\\\\segmentations\\\\humerus_right.nii.gz', 'C:\\\\Users\\\\Dell\\\\Downloads\\\\Totalsegmentator_dataset_v201\\\\s0001\\\\segmentations\\\\iliac_artery_left.nii.gz', 'C:\\\\Users\\\\Dell\\\\Downloads\\\\Totalsegmentator_dataset_v201\\\\s0001\\\\segmentations\\\\iliac_artery_right.nii.gz', 'C:\\\\Users\\\\Dell\\\\Downloads\\\\Totalsegmentator_dataset_v201\\\\s0001\\\\segmentations\\\\iliac_vena_left.nii.gz', 'C:\\\\Users\\\\Dell\\\\Downloads\\\\Totalsegmentator_dataset_v201\\\\s0001\\\\segmentations\\\\iliac_vena_right.nii.gz', 'C:\\\\Users\\\\Dell\\\\Downloads\\\\Totalsegmentator_dataset_v201\\\\s0001\\\\segmentations\\\\iliopsoas_left.nii.gz', 'C:\\\\Users\\\\Dell\\\\Downloads\\\\Totalsegmentator_dataset_v201\\\\s0001\\\\segmentations\\\\iliopsoas_right.nii.gz', 'C:\\\\Users\\\\Dell\\\\Downloads\\\\Totalsegmentator_dataset_v201\\\\s0001\\\\segmentations\\\\inferior_vena_cava.nii.gz', 'C:\\\\Users\\\\Dell\\\\Downloads\\\\Totalsegmentator_dataset_v201\\\\s0001\\\\segmentations\\\\kidney_cyst_left.nii.gz', 'C:\\\\Users\\\\Dell\\\\Downloads\\\\Totalsegmentator_dataset_v201\\\\s0001\\\\segmentations\\\\kidney_cyst_right.nii.gz', 'C:\\\\Users\\\\Dell\\\\Downloads\\\\Totalsegmentator_dataset_v201\\\\s0001\\\\segmentations\\\\kidney_left.nii.gz', 'C:\\\\Users\\\\Dell\\\\Downloads\\\\Totalsegmentator_dataset_v201\\\\s0001\\\\segmentations\\\\kidney_right.nii.gz', 'C:\\\\Users\\\\Dell\\\\Downloads\\\\Totalsegmentator_dataset_v201\\\\s0001\\\\segmentations\\\\liver.nii.gz', 'C:\\\\Users\\\\Dell\\\\Downloads\\\\Totalsegmentator_dataset_v201\\\\s0001\\\\segmentations\\\\lung_lower_lobe_left.nii.gz', 'C:\\\\Users\\\\Dell\\\\Downloads\\\\Totalsegmentator_dataset_v201\\\\s0001\\\\segmentations\\\\lung_lower_lobe_right.nii.gz', 'C:\\\\Users\\\\Dell\\\\Downloads\\\\Totalsegmentator_dataset_v201\\\\s0001\\\\segmentations\\\\lung_middle_lobe_right.nii.gz', 'C:\\\\Users\\\\Dell\\\\Downloads\\\\Totalsegmentator_dataset_v201\\\\s0001\\\\segmentations\\\\lung_upper_lobe_left.nii.gz', 'C:\\\\Users\\\\Dell\\\\Downloads\\\\Totalsegmentator_dataset_v201\\\\s0001\\\\segmentations\\\\lung_upper_lobe_right.nii.gz', 'C:\\\\Users\\\\Dell\\\\Downloads\\\\Totalsegmentator_dataset_v201\\\\s0001\\\\segmentations\\\\pancreas.nii.gz', 'C:\\\\Users\\\\Dell\\\\Downloads\\\\Totalsegmentator_dataset_v201\\\\s0001\\\\segmentations\\\\portal_vein_and_splenic_vein.nii.gz', 'C:\\\\Users\\\\Dell\\\\Downloads\\\\Totalsegmentator_dataset_v201\\\\s0001\\\\segmentations\\\\prostate.nii.gz', 'C:\\\\Users\\\\Dell\\\\Downloads\\\\Totalsegmentator_dataset_v201\\\\s0001\\\\segmentations\\\\pulmonary_vein.nii.gz', 'C:\\\\Users\\\\Dell\\\\Downloads\\\\Totalsegmentator_dataset_v201\\\\s0001\\\\segmentations\\\\rib_left_1.nii.gz', 'C:\\\\Users\\\\Dell\\\\Downloads\\\\Totalsegmentator_dataset_v201\\\\s0001\\\\segmentations\\\\rib_left_10.nii.gz', 'C:\\\\Users\\\\Dell\\\\Downloads\\\\Totalsegmentator_dataset_v201\\\\s0001\\\\segmentations\\\\rib_left_11.nii.gz', 'C:\\\\Users\\\\Dell\\\\Downloads\\\\Totalsegmentator_dataset_v201\\\\s0001\\\\segmentations\\\\rib_left_12.nii.gz', 'C:\\\\Users\\\\Dell\\\\Downloads\\\\Totalsegmentator_dataset_v201\\\\s0001\\\\segmentations\\\\rib_left_2.nii.gz', 'C:\\\\Users\\\\Dell\\\\Downloads\\\\Totalsegmentator_dataset_v201\\\\s0001\\\\segmentations\\\\rib_left_3.nii.gz', 'C:\\\\Users\\\\Dell\\\\Downloads\\\\Totalsegmentator_dataset_v201\\\\s0001\\\\segmentations\\\\rib_left_4.nii.gz', 'C:\\\\Users\\\\Dell\\\\Downloads\\\\Totalsegmentator_dataset_v201\\\\s0001\\\\segmentations\\\\rib_left_5.nii.gz', 'C:\\\\Users\\\\Dell\\\\Downloads\\\\Totalsegmentator_dataset_v201\\\\s0001\\\\segmentations\\\\rib_left_6.nii.gz', 'C:\\\\Users\\\\Dell\\\\Downloads\\\\Totalsegmentator_dataset_v201\\\\s0001\\\\segmentations\\\\rib_left_7.nii.gz', 'C:\\\\Users\\\\Dell\\\\Downloads\\\\Totalsegmentator_dataset_v201\\\\s0001\\\\segmentations\\\\rib_left_8.nii.gz', 'C:\\\\Users\\\\Dell\\\\Downloads\\\\Totalsegmentator_dataset_v201\\\\s0001\\\\segmentations\\\\rib_left_9.nii.gz', 'C:\\\\Users\\\\Dell\\\\Downloads\\\\Totalsegmentator_dataset_v201\\\\s0001\\\\segmentations\\\\rib_right_1.nii.gz', 'C:\\\\Users\\\\Dell\\\\Downloads\\\\Totalsegmentator_dataset_v201\\\\s0001\\\\segmentations\\\\rib_right_10.nii.gz', 'C:\\\\Users\\\\Dell\\\\Downloads\\\\Totalsegmentator_dataset_v201\\\\s0001\\\\segmentations\\\\rib_right_11.nii.gz', 'C:\\\\Users\\\\Dell\\\\Downloads\\\\Totalsegmentator_dataset_v201\\\\s0001\\\\segmentations\\\\rib_right_12.nii.gz', 'C:\\\\Users\\\\Dell\\\\Downloads\\\\Totalsegmentator_dataset_v201\\\\s0001\\\\segmentations\\\\rib_right_2.nii.gz', 'C:\\\\Users\\\\Dell\\\\Downloads\\\\Totalsegmentator_dataset_v201\\\\s0001\\\\segmentations\\\\rib_right_3.nii.gz', 'C:\\\\Users\\\\Dell\\\\Downloads\\\\Totalsegmentator_dataset_v201\\\\s0001\\\\segmentations\\\\rib_right_4.nii.gz', 'C:\\\\Users\\\\Dell\\\\Downloads\\\\Totalsegmentator_dataset_v201\\\\s0001\\\\segmentations\\\\rib_right_5.nii.gz', 'C:\\\\Users\\\\Dell\\\\Downloads\\\\Totalsegmentator_dataset_v201\\\\s0001\\\\segmentations\\\\rib_right_6.nii.gz', 'C:\\\\Users\\\\Dell\\\\Downloads\\\\Totalsegmentator_dataset_v201\\\\s0001\\\\segmentations\\\\rib_right_7.nii.gz', 'C:\\\\Users\\\\Dell\\\\Downloads\\\\Totalsegmentator_dataset_v201\\\\s0001\\\\segmentations\\\\rib_right_8.nii.gz', 'C:\\\\Users\\\\Dell\\\\Downloads\\\\Totalsegmentator_dataset_v201\\\\s0001\\\\segmentations\\\\rib_right_9.nii.gz', 'C:\\\\Users\\\\Dell\\\\Downloads\\\\Totalsegmentator_dataset_v201\\\\s0001\\\\segmentations\\\\sacrum.nii.gz', 'C:\\\\Users\\\\Dell\\\\Downloads\\\\Totalsegmentator_dataset_v201\\\\s0001\\\\segmentations\\\\scapula_left.nii.gz', 'C:\\\\Users\\\\Dell\\\\Downloads\\\\Totalsegmentator_dataset_v201\\\\s0001\\\\segmentations\\\\scapula_right.nii.gz', 'C:\\\\Users\\\\Dell\\\\Downloads\\\\Totalsegmentator_dataset_v201\\\\s0001\\\\segmentations\\\\skull.nii.gz', 'C:\\\\Users\\\\Dell\\\\Downloads\\\\Totalsegmentator_dataset_v201\\\\s0001\\\\segmentations\\\\small_bowel.nii.gz', 'C:\\\\Users\\\\Dell\\\\Downloads\\\\Totalsegmentator_dataset_v201\\\\s0001\\\\segmentations\\\\spinal_cord.nii.gz', 'C:\\\\Users\\\\Dell\\\\Downloads\\\\Totalsegmentator_dataset_v201\\\\s0001\\\\segmentations\\\\spleen.nii.gz', 'C:\\\\Users\\\\Dell\\\\Downloads\\\\Totalsegmentator_dataset_v201\\\\s0001\\\\segmentations\\\\sternum.nii.gz', 'C:\\\\Users\\\\Dell\\\\Downloads\\\\Totalsegmentator_dataset_v201\\\\s0001\\\\segmentations\\\\stomach.nii.gz', 'C:\\\\Users\\\\Dell\\\\Downloads\\\\Totalsegmentator_dataset_v201\\\\s0001\\\\segmentations\\\\subclavian_artery_left.nii.gz', 'C:\\\\Users\\\\Dell\\\\Downloads\\\\Totalsegmentator_dataset_v201\\\\s0001\\\\segmentations\\\\subclavian_artery_right.nii.gz', 'C:\\\\Users\\\\Dell\\\\Downloads\\\\Totalsegmentator_dataset_v201\\\\s0001\\\\segmentations\\\\superior_vena_cava.nii.gz', 'C:\\\\Users\\\\Dell\\\\Downloads\\\\Totalsegmentator_dataset_v201\\\\s0001\\\\segmentations\\\\thyroid_gland.nii.gz', 'C:\\\\Users\\\\Dell\\\\Downloads\\\\Totalsegmentator_dataset_v201\\\\s0001\\\\segmentations\\\\trachea.nii.gz', 'C:\\\\Users\\\\Dell\\\\Downloads\\\\Totalsegmentator_dataset_v201\\\\s0001\\\\segmentations\\\\urinary_bladder.nii.gz', 'C:\\\\Users\\\\Dell\\\\Downloads\\\\Totalsegmentator_dataset_v201\\\\s0001\\\\segmentations\\\\vertebrae_C1.nii.gz', 'C:\\\\Users\\\\Dell\\\\Downloads\\\\Totalsegmentator_dataset_v201\\\\s0001\\\\segmentations\\\\vertebrae_C2.nii.gz', 'C:\\\\Users\\\\Dell\\\\Downloads\\\\Totalsegmentator_dataset_v201\\\\s0001\\\\segmentations\\\\vertebrae_C3.nii.gz', 'C:\\\\Users\\\\Dell\\\\Downloads\\\\Totalsegmentator_dataset_v201\\\\s0001\\\\segmentations\\\\vertebrae_C4.nii.gz', 'C:\\\\Users\\\\Dell\\\\Downloads\\\\Totalsegmentator_dataset_v201\\\\s0001\\\\segmentations\\\\vertebrae_C5.nii.gz', 'C:\\\\Users\\\\Dell\\\\Downloads\\\\Totalsegmentator_dataset_v201\\\\s0001\\\\segmentations\\\\vertebrae_C6.nii.gz', 'C:\\\\Users\\\\Dell\\\\Downloads\\\\Totalsegmentator_dataset_v201\\\\s0001\\\\segmentations\\\\vertebrae_C7.nii.gz', 'C:\\\\Users\\\\Dell\\\\Downloads\\\\Totalsegmentator_dataset_v201\\\\s0001\\\\segmentations\\\\vertebrae_L1.nii.gz', 'C:\\\\Users\\\\Dell\\\\Downloads\\\\Totalsegmentator_dataset_v201\\\\s0001\\\\segmentations\\\\vertebrae_L2.nii.gz', 'C:\\\\Users\\\\Dell\\\\Downloads\\\\Totalsegmentator_dataset_v201\\\\s0001\\\\segmentations\\\\vertebrae_L3.nii.gz', 'C:\\\\Users\\\\Dell\\\\Downloads\\\\Totalsegmentator_dataset_v201\\\\s0001\\\\segmentations\\\\vertebrae_L4.nii.gz', 'C:\\\\Users\\\\Dell\\\\Downloads\\\\Totalsegmentator_dataset_v201\\\\s0001\\\\segmentations\\\\vertebrae_L5.nii.gz', 'C:\\\\Users\\\\Dell\\\\Downloads\\\\Totalsegmentator_dataset_v201\\\\s0001\\\\segmentations\\\\vertebrae_S1.nii.gz', 'C:\\\\Users\\\\Dell\\\\Downloads\\\\Totalsegmentator_dataset_v201\\\\s0001\\\\segmentations\\\\vertebrae_T1.nii.gz', 'C:\\\\Users\\\\Dell\\\\Downloads\\\\Totalsegmentator_dataset_v201\\\\s0001\\\\segmentations\\\\vertebrae_T10.nii.gz', 'C:\\\\Users\\\\Dell\\\\Downloads\\\\Totalsegmentator_dataset_v201\\\\s0001\\\\segmentations\\\\vertebrae_T11.nii.gz', 'C:\\\\Users\\\\Dell\\\\Downloads\\\\Totalsegmentator_dataset_v201\\\\s0001\\\\segmentations\\\\vertebrae_T12.nii.gz', 'C:\\\\Users\\\\Dell\\\\Downloads\\\\Totalsegmentator_dataset_v201\\\\s0001\\\\segmentations\\\\vertebrae_T2.nii.gz', 'C:\\\\Users\\\\Dell\\\\Downloads\\\\Totalsegmentator_dataset_v201\\\\s0001\\\\segmentations\\\\vertebrae_T3.nii.gz', 'C:\\\\Users\\\\Dell\\\\Downloads\\\\Totalsegmentator_dataset_v201\\\\s0001\\\\segmentations\\\\vertebrae_T4.nii.gz', 'C:\\\\Users\\\\Dell\\\\Downloads\\\\Totalsegmentator_dataset_v201\\\\s0001\\\\segmentations\\\\vertebrae_T5.nii.gz', 'C:\\\\Users\\\\Dell\\\\Downloads\\\\Totalsegmentator_dataset_v201\\\\s0001\\\\segmentations\\\\vertebrae_T6.nii.gz', 'C:\\\\Users\\\\Dell\\\\Downloads\\\\Totalsegmentator_dataset_v201\\\\s0001\\\\segmentations\\\\vertebrae_T7.nii.gz', 'C:\\\\Users\\\\Dell\\\\Downloads\\\\Totalsegmentator_dataset_v201\\\\s0001\\\\segmentations\\\\vertebrae_T8.nii.gz', 'C:\\\\Users\\\\Dell\\\\Downloads\\\\Totalsegmentator_dataset_v201\\\\s0001\\\\segmentations\\\\vertebrae_T9.nii.gz']\n",
      "Before transform: label path: C:\\Users\\Dell\\Downloads\\Totalsegmentator_dataset_v201\\s0001\\segmentations\\combined_mask.nii.gz\n",
      "After transform: label shape: torch.Size([1, 128, 128, 128])\n"
     ]
    }
   ],
   "source": [
    "lbl_files = glob.glob(os.path.join(lbl_path, '*.nii.gz'))\n",
    "print(lbl_files)\n",
    "\n",
    "cmb_lbl_path = combine_masks(lbl_path)\n",
    "lbl_files = cmb_lbl_path\n",
    "\n",
    "data = {'label': lbl_files }\n",
    "\n",
    "if transform is not None: # if transform is provided\n",
    "    print(f\"Before transform: label path: {lbl_files}\")\n",
    "    data = transform(data) # applying any transforms\n",
    "    print(f\"After transform: label shape: {data['label'].shape}\")"
   ],
   "metadata": {
    "collapsed": false,
    "ExecuteTime": {
     "end_time": "2024-12-11T16:09:01.213276300Z",
     "start_time": "2024-12-11T16:09:01.113811700Z"
    }
   },
   "id": "a12752dadea5380",
   "execution_count": 113
  },
  {
   "cell_type": "markdown",
   "source": [
    "That was converting labels to tensor. The code below is meant to reverse that process"
   ],
   "metadata": {
    "collapsed": false
   },
   "id": "3c0f0b05ec37c752"
  },
  {
   "cell_type": "code",
   "outputs": [],
   "source": [
    "def get_distinct_colors():\n",
    "    colormaps = ['Pastel1', 'Pastel2', 'Paired', 'Accent','Dark2', \n",
    "        'Set1', 'Set2', 'Set3','tab10', 'tab20', 'tab20b', 'tab20c']  # https://matplotlib.org/stable/users/explain/colors/colormaps.html\n",
    "    colors = []\n",
    "    \n",
    "    for i in range(117):\n",
    "        cmap_name = colormaps[i % len(colormaps)]  # cycling through available colormaps defined above.\n",
    "        cmap = cm.get_cmap(cmap_name)\n",
    "        normalized_idx = (i % cmap.N) / cmap.N # normalize index.\n",
    "        rgb_color = cmap(normalized_idx)[:3]  # extract RGB values.\n",
    "        colors.append(rgb_color)\n",
    "    \n",
    "    return colors"
   ],
   "metadata": {
    "collapsed": false,
    "ExecuteTime": {
     "end_time": "2024-12-11T16:09:01.226445400Z",
     "start_time": "2024-12-11T16:09:01.215269900Z"
    }
   },
   "id": "92cb0318b66a14cc",
   "execution_count": 114
  },
  {
   "cell_type": "code",
   "outputs": [
    {
     "name": "stdout",
     "output_type": "stream",
     "text": [
      "Segmentation output shape: (128, 128, 128)\n"
     ]
    },
    {
     "ename": "TypeError",
     "evalue": "cannot unpack non-iterable int object",
     "output_type": "error",
     "traceback": [
      "\u001B[1;31m---------------------------------------------------------------------------\u001B[0m",
      "\u001B[1;31mTypeError\u001B[0m                                 Traceback (most recent call last)",
      "Cell \u001B[1;32mIn[115], line 14\u001B[0m\n\u001B[0;32m     10\u001B[0m \u001B[38;5;28mprint\u001B[39m(\u001B[38;5;124mf\u001B[39m\u001B[38;5;124m\"\u001B[39m\u001B[38;5;124mSegmentation output shape: \u001B[39m\u001B[38;5;132;01m{\u001B[39;00mseg_out\u001B[38;5;241m.\u001B[39mshape\u001B[38;5;132;01m}\u001B[39;00m\u001B[38;5;124m\"\u001B[39m)\n\u001B[0;32m     12\u001B[0m volume \u001B[38;5;241m=\u001B[39m []\n\u001B[1;32m---> 14\u001B[0m \u001B[38;5;28;01mfor\u001B[39;00m class_nr, organ_name \u001B[38;5;129;01min\u001B[39;00m total:\n\u001B[0;32m     15\u001B[0m     nifti \u001B[38;5;241m=\u001B[39m np\u001B[38;5;241m.\u001B[39mzeros(seg_out\u001B[38;5;241m.\u001B[39mshape)\n\u001B[0;32m     16\u001B[0m     nifti[seg_out \u001B[38;5;241m==\u001B[39m class_nr] \u001B[38;5;241m=\u001B[39m \u001B[38;5;241m1\u001B[39m\n",
      "\u001B[1;31mTypeError\u001B[0m: cannot unpack non-iterable int object"
     ]
    }
   ],
   "source": [
    "lbls = []\n",
    "lbls.append(data)\n",
    "labels =  [sample['label'] for sample in lbls]\n",
    "batched_labels = torch.stack(labels, dim=0)\n",
    "img_tensor = batched_labels.unsqueeze(0)\n",
    "device = torch.device(\"cuda\" if torch.cuda.is_available() else \"cpu\")\n",
    "img_tensor = img_tensor.to(device)\n",
    "\n",
    "seg_out = img_tensor.squeeze().cpu().numpy()\n",
    "print(f\"Segmentation output shape: {seg_out.shape}\")\n",
    "\n",
    "volume = []\n",
    "\n",
    "for class_nr, organ_name in total:\n",
    "    nifti = np.zeros(seg_out.shape)\n",
    "    nifti[seg_out == class_nr] = 1\n",
    "    affine = nib.load(nifti).affine\n",
    "    nifti = nib.Nifti1Image(nifti.astype(np.uint8), affine)\n",
    "    nib.save(nifti, f\"{organ_name}.nii.gz\")\n",
    "    colors_rgb = get_distinct_colors()\n",
    "\n",
    "    seg_path = f'{organ_name }.stl'\n",
    "    if os.path.exists(seg_path):\n",
    "        os.remove(seg_path)\n",
    "    demo.convert_to_stl(nifti, seg_path)\n",
    "    vol = load(seg_path).color(colors_rgb[i % len(colors_rgb)])\n",
    "    volume.append(vol)\n",
    "    \n",
    "plotter = Plotter()\n",
    "plotter.show(volume)"
   ],
   "metadata": {
    "collapsed": false,
    "ExecuteTime": {
     "end_time": "2024-12-11T16:09:01.293293Z",
     "start_time": "2024-12-11T16:09:01.223455500Z"
    }
   },
   "id": "a7f2bd874deaa347",
   "execution_count": 115
  },
  {
   "cell_type": "code",
   "outputs": [],
   "source": [],
   "metadata": {
    "collapsed": false,
    "ExecuteTime": {
     "start_time": "2024-12-11T16:09:01.283320700Z"
    }
   },
   "id": "b483a8f342937e67"
  }
 ],
 "metadata": {
  "kernelspec": {
   "display_name": "Python 3",
   "language": "python",
   "name": "python3"
  },
  "language_info": {
   "codemirror_mode": {
    "name": "ipython",
    "version": 2
   },
   "file_extension": ".py",
   "mimetype": "text/x-python",
   "name": "python",
   "nbconvert_exporter": "python",
   "pygments_lexer": "ipython2",
   "version": "2.7.6"
  }
 },
 "nbformat": 4,
 "nbformat_minor": 5
}
